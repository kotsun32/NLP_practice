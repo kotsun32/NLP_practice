{
  "nbformat": 4,
  "nbformat_minor": 0,
  "metadata": {
    "colab": {
      "name": "NLP_practice.ipynb",
      "provenance": [],
      "authorship_tag": "ABX9TyNICVAZ2vKs5f6Xd0uGTB5w",
      "include_colab_link": true
    },
    "kernelspec": {
      "name": "python3",
      "display_name": "Python 3"
    },
    "language_info": {
      "name": "python"
    }
  },
  "cells": [
    {
      "cell_type": "markdown",
      "metadata": {
        "id": "view-in-github",
        "colab_type": "text"
      },
      "source": [
        "<a href=\"https://colab.research.google.com/github/kotsun32/NLP_practice/blob/main/NLP_practice.ipynb\" target=\"_parent\"><img src=\"https://colab.research.google.com/assets/colab-badge.svg\" alt=\"Open In Colab\"/></a>"
      ]
    },
    {
      "cell_type": "code",
      "execution_count": 14,
      "metadata": {
        "id": "4U6asTRGnZpV"
      },
      "outputs": [],
      "source": [
        "import tensorflow as tf\n",
        "from tensorflow import keras\n",
        "from tensorflow.keras.preprocessing.text import Tokenizer\n",
        " "
      ]
    },
    {
      "cell_type": "code",
      "source": [
        "train_sentence = [\"It is a sunny day\",\n",
        "                  \"It is a cloudy day\",\n",
        "                  \"Will it rain today?\",\n",
        "                  \"it\"]\n",
        "                  #caps dont matter"
      ],
      "metadata": {
        "id": "nW6C-BvpnqLT"
      },
      "execution_count": 24,
      "outputs": []
    },
    {
      "cell_type": "code",
      "source": [
        "# instantiate tokenizer\n",
        "tokenizer = Tokenizer(num_words=100)\n",
        "\n",
        "#train\n",
        "tokenizer.fit_on_texts(train_sentence)\n",
        "\n",
        "#store index for words\n",
        "word_index = tokenizer.word_index\n"
      ],
      "metadata": {
        "id": "Fvot2YBLome6"
      },
      "execution_count": 25,
      "outputs": []
    },
    {
      "cell_type": "code",
      "source": [
        "print(word_index)"
      ],
      "metadata": {
        "colab": {
          "base_uri": "https://localhost:8080/"
        },
        "id": "Rbx9GBBRo6fb",
        "outputId": "dc0e94c4-c1c9-45da-e206-b90ec036780e"
      },
      "execution_count": 26,
      "outputs": [
        {
          "output_type": "stream",
          "name": "stdout",
          "text": [
            "{'it': 1, 'is': 2, 'a': 3, 'day': 4, 'sunny': 5, 'cloudy': 6, 'will': 7, 'rain': 8, 'today': 9}\n"
          ]
        }
      ]
    },
    {
      "cell_type": "code",
      "source": [
        "sequences = tokenizer.texts_to_sequences(train_sentence)"
      ],
      "metadata": {
        "id": "zGI3TJxQqe0X"
      },
      "execution_count": 27,
      "outputs": []
    },
    {
      "cell_type": "code",
      "source": [
        "print(f\"Word index---> {word_index}\")\n",
        "print(f\"Sequences of word--->{sequences}\")"
      ],
      "metadata": {
        "colab": {
          "base_uri": "https://localhost:8080/"
        },
        "id": "TYmiPKhvwoYb",
        "outputId": "153c4c90-ced7-4ea7-838f-e85ca1a427fd"
      },
      "execution_count": 28,
      "outputs": [
        {
          "output_type": "stream",
          "name": "stdout",
          "text": [
            "Word index---> {'it': 1, 'is': 2, 'a': 3, 'day': 4, 'sunny': 5, 'cloudy': 6, 'will': 7, 'rain': 8, 'today': 9}\n",
            "Sequences of word--->[[1, 2, 3, 5, 4], [1, 2, 3, 6, 4], [7, 1, 8, 9], [1]]\n"
          ]
        }
      ]
    },
    {
      "cell_type": "code",
      "source": [
        "new_sentence = [\"Will it be raining today\",\n",
        "                \"It is a pleasant day\"]\n",
        "                "
      ],
      "metadata": {
        "id": "X3fzeOYvxCrc"
      },
      "execution_count": 29,
      "outputs": []
    },
    {
      "cell_type": "code",
      "source": [
        "new_sequences = tokenizer.texts_to_sequences(new_sentence)"
      ],
      "metadata": {
        "id": "iSjJNB0uxjxy"
      },
      "execution_count": 30,
      "outputs": []
    },
    {
      "cell_type": "code",
      "source": [
        "print(new_sentence)\n",
        "print(new_sequences)"
      ],
      "metadata": {
        "colab": {
          "base_uri": "https://localhost:8080/"
        },
        "id": "bRQqTIdIxrYG",
        "outputId": "1582e290-713f-41c9-9fa0-676db76c4b0a"
      },
      "execution_count": 31,
      "outputs": [
        {
          "output_type": "stream",
          "name": "stdout",
          "text": [
            "['Will it be raining today', 'It is a pleasant day']\n",
            "[[7, 1, 9], [1, 2, 3, 4]]\n"
          ]
        }
      ]
    },
    {
      "cell_type": "code",
      "source": [
        "tokenizer_2 = Tokenizer(num_words=100, oov_token=\"<oov>\")\n",
        "\n",
        "tokenizer_2.fit_on_texts(train_sentence)\n",
        "\n",
        "word_index_2 = tokenizer_2.word_index"
      ],
      "metadata": {
        "id": "ftf9yt-9xx6w"
      },
      "execution_count": 32,
      "outputs": []
    },
    {
      "cell_type": "code",
      "source": [
        "new_sequences = tokenizer_2.texts_to_sequences(new_sentence)\n",
        "print(word_index_2)\n",
        "print(new_sequences)"
      ],
      "metadata": {
        "colab": {
          "base_uri": "https://localhost:8080/"
        },
        "id": "mQgWn3f5ydAM",
        "outputId": "7448f0df-834a-4d96-aefe-d7ff7c2bbdba"
      },
      "execution_count": 35,
      "outputs": [
        {
          "output_type": "stream",
          "name": "stdout",
          "text": [
            "{'<oov>': 1, 'it': 2, 'is': 3, 'a': 4, 'day': 5, 'sunny': 6, 'cloudy': 7, 'will': 8, 'rain': 9, 'today': 10}\n",
            "[[8, 2, 1, 1, 10], [2, 3, 4, 1, 5]]\n"
          ]
        }
      ]
    },
    {
      "cell_type": "code",
      "source": [
        ""
      ],
      "metadata": {
        "id": "QZDHe-oIykls"
      },
      "execution_count": null,
      "outputs": []
    }
  ]
}